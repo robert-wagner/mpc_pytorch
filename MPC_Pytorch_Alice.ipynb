{
 "cells": [
  {
   "cell_type": "code",
   "execution_count": 2,
   "metadata": {},
   "outputs": [],
   "source": [
    "import torch\n",
    "from torch.autograd import Variable, Function\n",
    "import inspect\n",
    "import random\n",
    "import copy\n",
    "\n",
    "# import functools\n",
    "# TODO: Use functools.wrap to get original function/method dir attributes"
   ]
  },
  {
   "cell_type": "code",
   "execution_count": 3,
   "metadata": {},
   "outputs": [],
   "source": [
    "BASE = 10\n",
    "KAPPA = 3 # ~29 bits\n",
    "\n",
    "PRECISION_INTEGRAL = 2\n",
    "PRECISION_FRACTIONAL = 5\n",
    "PRECISION = PRECISION_INTEGRAL + PRECISION_FRACTIONAL\n",
    "BOUND = BASE**PRECISION\n",
    "\n",
    "# Q field\n",
    "Q = 2**41 # < 64 bits\n",
    "#Q = 2147483648\n",
    "Q_MAXDEGREE = 1\n",
    "#assert Q > BASE**(PRECISION * Q_MAXDEGREE) # supported multiplication degree (without truncation)\n",
    "#assert Q > 2*BOUND * BASE**KAPPA # supported kappa when in positive range \n",
    "\n",
    "# P field\n",
    "P = 1802216888453791673313287943102424579859887305661122324585863735744776691801009887 # < 270 bits\n",
    "P_MAXDEGREE = 9\n",
    "#assert P > Q\n",
    "#assert P > BASE**(PRECISION * P_MAXDEGREE)\n"
   ]
  },
  {
   "cell_type": "code",
   "execution_count": 16,
   "metadata": {},
   "outputs": [],
   "source": [
    "def encode(rational,field=Q,precision_fractional=PRECISION_FRACTIONAL):\n",
    "    upscaled = (rational * BASE**precision_fractional).long()\n",
    "    upscaled.remainder_(field)\n",
    "    return upscaled\n",
    "def decode(field_element,field=Q,precision_fractional=PRECISION_FRACTIONAL):\n",
    "    field_element = field_element.data\n",
    "    neg_values = field_element.gt(field)\n",
    "    #pos_values = field_element.le(field)\n",
    "    #upscaled = field_element*(neg_valuese+pos_values)\n",
    "    field_element[neg_values] = field-field_element[neg_values]\n",
    "    rational = field_element.float()/ BASE**precision_fractional\n",
    "    return rational\n",
    "def share(secret,field=Q):\n",
    "    first = torch.LongTensor(secret.shape).random_(field)\n",
    "    second = (secret - first)% field\n",
    "    return [first,second]\n",
    "def reconstruct(shares ,field=Q):\n",
    "    return sum(shares)%field\n",
    "    "
   ]
  },
  {
   "cell_type": "code",
   "execution_count": 22,
   "metadata": {},
   "outputs": [],
   "source": [
    "def send_shrare(value):\n",
    "    raise NotImplementedError()\n",
    "def receive_share():\n",
    "    raise NotImplementedError()\n",
    "def swap_shares(share,party):\n",
    "    if (party == 0):\n",
    "        send_share(share)\n",
    "        share_other = receive_share()\n",
    "    elif (party == 1):\n",
    "        share_other = receive_share()\n",
    "        send_share(share)\n",
    "    return share_other"
   ]
  },
  {
   "cell_type": "code",
   "execution_count": 35,
   "metadata": {},
   "outputs": [],
   "source": [
    "def public_add(x,y,party):\n",
    "    if (party ==0):\n",
    "        return x+y\n",
    "    elif(party == 1):\n",
    "        return x"
   ]
  },
  {
   "cell_type": "code",
   "execution_count": 34,
   "metadata": {},
   "outputs": [],
   "source": [
    "def spdz_mul(x,y,party,field=Q):\n",
    "    if a.shape != b.shape:\n",
    "        raise ValueError()\n",
    "    m,n = a.shape\n",
    "    triple = generate_mul_triple_communication(m,n,party,field)\n",
    "    a,b,c = triple\n",
    "    d = x - a\n",
    "    e = y - b\n",
    "    \n",
    "    d_other = swap_shares(d,party)\n",
    "    e_other = swap_shares(e,party)\n",
    "    delta = reconstruct([d,d_other],field)\n",
    "    epsilon = reconstruct([e,e_other],field)\n",
    "    r = delta * epsilon\n",
    "    s = a * epsilon\n",
    "    t = b * delta\n",
    "    share = s + t + c\n",
    "    share = public_add(share,r,party)\n",
    "    share = truncate(share)\n",
    "    return share"
   ]
  },
  {
   "cell_type": "code",
   "execution_count": 36,
   "metadata": {},
   "outputs": [],
   "source": [
    "def spdz_matmul(x,y,party,field=Q):\n",
    "    x_height = x.shape[0]\n",
    "    x_width = x.shape[1]\n",
    "    \n",
    "    y_height = y.shape[0]\n",
    "    y_width = y.shape[1]\n",
    "    \n",
    "    assert x_width == y_height\n",
    "    \n",
    "    r, s, t = generate_matmul_triple_communication(x_height,y_width,x_width, party,field)\n",
    "\n",
    "    rho_local = x - r\n",
    "    sigma_local = y - s\n",
    "    \n",
    "    # Communication\n",
    "    rho_other = swap_shares(rho_local, party, socket)\n",
    "    sigma_other = swap_shares(sigma_local, party, socket)\n",
    "    \n",
    "    # They both add up the shares locally\n",
    "    rho = reconstruct([rho_local, rho_other],field)\n",
    "    sigma = reconstruct([sigma_local, sigma_other],field)\n",
    "\n",
    "    r_sigma = r @ sigma    \n",
    "    rho_s = rho @ s \n",
    "\n",
    "    share =  r_sigma + rho_s + t \n",
    "    \n",
    "    rs = rho @ sigma\n",
    "\n",
    "    share = add_public(share, rs)\n",
    "    share = truncate(share)   \n",
    "    return share"
   ]
  },
  {
   "cell_type": "code",
   "execution_count": 30,
   "metadata": {},
   "outputs": [],
   "source": [
    "def generate_mul_triple(m,n,field=Q):\n",
    "    r = torch.LongTensor(m,n).random_(field)\n",
    "    s = torch.LongTensor(m,m).random_(field)\n",
    "    t = r * s \n",
    "    return r,s,t"
   ]
  },
  {
   "cell_type": "code",
   "execution_count": 33,
   "metadata": {},
   "outputs": [],
   "source": [
    "def generate_mul_triple_communication(m,n,party,field=Q):\n",
    "    if (party==0):\n",
    "        r,s,t = generate_mul_triple(m,n,field)\n",
    "        \n",
    "        r_alice, r_bob = share(r)\n",
    "        s_alice, s_bob = share(s)\n",
    "        t_alice, t_bob = share(t)\n",
    "        \n",
    "        reponse_r = swap_shares(r_bob,party)\n",
    "        reponse_s = swap_shares(s_bob,party)\n",
    "        reponse_t = swap_shares(t_bob,party)\n",
    "        \n",
    "        triple_alice = [r_alice,s_alice,t_alice]\n",
    "        return triple_alice\n",
    "    elif (party == 1):\n",
    "        r_bob = swap_shares(torch.LongTensor(m,n).zeros(),party)\n",
    "        s_bob = swap_shares(torch.LongTensor(m,n).zeros(),party)\n",
    "        t_bob = swap_shares(torch.LongTensor(m,n).zeros(),party)\n",
    "        triple_bob = [r_bob,s_bob,t_bob]\n",
    "        return triple_bob"
   ]
  },
  {
   "cell_type": "code",
   "execution_count": 40,
   "metadata": {},
   "outputs": [],
   "source": [
    "def generate_matmul_triple(m,n,k,field=Q):\n",
    "    r = torch.LongTensor(m,k).random_(field)\n",
    "    s = torch.LongTensor(k,n).random_(field)\n",
    "    t = (r @ s) % field\n",
    "    return r, s, t"
   ]
  },
  {
   "cell_type": "code",
   "execution_count": 5,
   "metadata": {},
   "outputs": [],
   "source": [
    "class EncryptedAdd(Function):\n",
    "    \n",
    "    @staticmethod\n",
    "    def forward(ctx, a, b,field=Q):\n",
    "        return a+b % field\n",
    "        # compute a + b on encrypted data - they are regular PyTorch tensors\n",
    "        \n",
    "    @staticmethod\n",
    "    def backward(ctx, grad_out):\n",
    "        grad_out = VariableProxy(grad_out.data)\n",
    "        return grad_out.var,grad_out.var\n",
    "        # not grad_out operators are overloaded\n",
    "    "
   ]
  },
  {
   "cell_type": "code",
   "execution_count": 6,
   "metadata": {},
   "outputs": [],
   "source": [
    "class EncryptedMult(Function):\n",
    "    \n",
    "    @staticmethod\n",
    "    def forward(ctx, a, b):\n",
    "        ctx.save_for_backward(a,b)       \n",
    "        return spdz_mul(a,b)\n",
    "        # compute a * b on encrypted data - they are regular PyTorch tensors\n",
    "        \n",
    "    @staticmethod\n",
    "    def backward(ctx, grad_out):\n",
    "        a,b = ctx.saved_tensors\n",
    "        grad_out = grad_out\n",
    "        return Variable(spdz_mul(grad_out.data,b)),Variable(spdz_mul(grad_out.data,a))\n",
    "        # not grad_out operators are overloaded"
   ]
  },
  {
   "cell_type": "code",
   "execution_count": 24,
   "metadata": {},
   "outputs": [],
   "source": [
    "def spdz_matmul(a,b):\n",
    "    return a @ b"
   ]
  },
  {
   "cell_type": "code",
   "execution_count": 26,
   "metadata": {},
   "outputs": [],
   "source": [
    "class EncryptedMatmul(Function):\n",
    "    \n",
    "    @staticmethod\n",
    "    def forward(ctx,a,b):\n",
    "        ctx.save_for_backward(a,b)\n",
    "        return spdz_matmul(a,b)\n",
    "    def backward(ctx,grad_out):\n",
    "        a,b = ctx.saved_tensors\n",
    "        raise NotImplementedError()"
   ]
  },
  {
   "cell_type": "code",
   "execution_count": 28,
   "metadata": {},
   "outputs": [],
   "source": [
    "class VariableProxy(object):\n",
    "    \n",
    "    def __init__(self, var, field=Q, requires_grad=True):\n",
    "        self.var = Variable(var,requires_grad=requires_grad)\n",
    "        self.var = self.var\n",
    "\n",
    "    def __add__(self, other):\n",
    "        return (EncryptedAdd.apply(self.var, other.var))\n",
    "    \n",
    "    def __mul__(self,other):\n",
    "        return (EncryptedMult.apply(self.var, other.var))\n",
    "    def __matmul__(self,other):\n",
    "        retunn (EncryptedMatmul.apply(self.var,other.var))\n",
    "    \n",
    "    def grad(self):\n",
    "        return self.var.grad\n",
    "    "
   ]
  },
  {
   "cell_type": "code",
   "execution_count": 17,
   "metadata": {},
   "outputs": [],
   "source": [
    "x = VariableProxy(encode(torch.FloatTensor([1,1,1])),requires_grad=True)\n",
    "y = VariableProxy(encode(torch.FloatTensor([2,3,4])),requires_grad=True)"
   ]
  },
  {
   "cell_type": "code",
   "execution_count": 18,
   "metadata": {},
   "outputs": [],
   "source": [
    "z = x + y"
   ]
  },
  {
   "cell_type": "code",
   "execution_count": 19,
   "metadata": {},
   "outputs": [
    {
     "data": {
      "text/plain": [
       "Variable containing:\n",
       " 3.0000e+05\n",
       " 4.0000e+05\n",
       " 5.0000e+05\n",
       "[torch.LongTensor of size 3]"
      ]
     },
     "execution_count": 19,
     "metadata": {},
     "output_type": "execute_result"
    }
   ],
   "source": [
    "z"
   ]
  },
  {
   "cell_type": "code",
   "execution_count": 20,
   "metadata": {},
   "outputs": [
    {
     "data": {
      "text/plain": [
       "\n",
       " 3\n",
       " 4\n",
       " 5\n",
       "[torch.FloatTensor of size 3]"
      ]
     },
     "execution_count": 20,
     "metadata": {},
     "output_type": "execute_result"
    }
   ],
   "source": [
    "decode(z)"
   ]
  },
  {
   "cell_type": "code",
   "execution_count": 223,
   "metadata": {},
   "outputs": [],
   "source": [
    "z.backward(torch.FloatTensor([1]))"
   ]
  },
  {
   "cell_type": "code",
   "execution_count": 224,
   "metadata": {},
   "outputs": [
    {
     "data": {
      "text/plain": [
       "Variable containing:\n",
       " 1\n",
       "[torch.FloatTensor of size 1]"
      ]
     },
     "execution_count": 224,
     "metadata": {},
     "output_type": "execute_result"
    }
   ],
   "source": [
    "x.grad()"
   ]
  },
  {
   "cell_type": "code",
   "execution_count": 42,
   "metadata": {},
   "outputs": [
    {
     "data": {
      "text/plain": [
       "(\n",
       "  4  6  6  1  4\n",
       "  6  9  1  9  1\n",
       "  1  7  0  8  1\n",
       " [torch.IntTensor of size 3x5], \n",
       "  3  1  6  3\n",
       "  4  0  4  4\n",
       "  5  3  3  1\n",
       "  0  8  1  8\n",
       "  3  0  7  4\n",
       " [torch.IntTensor of size 5x4], \n",
       "  8  0  5  6\n",
       "  2  1  1  1\n",
       "  4  5  9  9\n",
       " [torch.IntTensor of size 3x4])"
      ]
     },
     "execution_count": 42,
     "metadata": {},
     "output_type": "execute_result"
    }
   ],
   "source": [
    "generate_matmul_triple(3,4,5,10)"
   ]
  },
  {
   "cell_type": "code",
   "execution_count": 215,
   "metadata": {},
   "outputs": [
    {
     "name": "stdout",
     "output_type": "stream",
     "text": [
      "\n",
      " 1.0000\n",
      " 2.5000\n",
      " 3.0000\n",
      "[torch.FloatTensor of size 3]\n",
      "\n",
      "\n",
      " 1.0000e+05\n",
      " 2.5000e+05\n",
      " 3.0000e+05\n",
      "[torch.LongTensor of size 3]\n",
      "\n",
      "\n",
      " 1.0000\n",
      " 2.5000\n",
      " 3.0000\n",
      "[torch.FloatTensor of size 3]\n",
      "\n",
      "\n",
      " 1.7385e+12\n",
      " 1.3528e+12\n",
      " 1.1383e+12\n",
      "[torch.LongTensor of size 3]\n",
      "\n",
      "\n",
      "-1.7385e+12\n",
      "-1.3528e+12\n",
      "-1.1382e+12\n",
      "[torch.LongTensor of size 3]\n",
      "\n",
      "\n",
      " 1.0000e+05\n",
      " 2.5000e+05\n",
      " 3.0000e+05\n",
      "[torch.LongTensor of size 3]\n",
      "\n"
     ]
    }
   ],
   "source": [
    "ds =  torch.FloatTensor([1,2.5,3])\n",
    "print(ds)\n",
    "dsa = encode(ds)\n",
    "print(dsa)\n",
    "dsq = decode(dsa)\n",
    "print(dsq)\n",
    "alice,bob = share(dsa)\n",
    "print(alice)\n",
    "print(bob)\n",
    "dsr = reconstruct([alice,bob])\n",
    "print(dsr)"
   ]
  }
 ],
 "metadata": {
  "kernelspec": {
   "display_name": "Python 3",
   "language": "python",
   "name": "python3"
  },
  "language_info": {
   "codemirror_mode": {
    "name": "ipython",
    "version": 3
   },
   "file_extension": ".py",
   "mimetype": "text/x-python",
   "name": "python",
   "nbconvert_exporter": "python",
   "pygments_lexer": "ipython3",
   "version": "3.6.3"
  }
 },
 "nbformat": 4,
 "nbformat_minor": 2
}
